{
    "nbformat": 4,
    "nbformat_minor": 0,
    "metadata": {
      "colab": {
        "provenance": []
      },
      "kernelspec": {
        "name": "python3",
        "display_name": "Python 3"
      },
      "language_info": {
        "name": "python"
      }
    },
    "cells": [
      {
        "cell_type": "markdown",
        "metadata": {
          "id": "view-in-github"
        },
        "source": [
          "[![Open In Colab](https://colab.research.google.com/assets/colab-badge.svg)](https://colab.research.google.com/github/camenduru/elevenlabs-colab/blob/main/elevenlabs_colab.ipynb)"
        ]
      },
      {
        "cell_type": "code",
        "execution_count": null,
        "metadata": {
          "id": "k7LoZUS1x-Ik"
        },
        "outputs": [],
        "source": [
          "!git clone -b dev https://github.com/camenduru/elevenlabs-hf\n",
          "%cd tts\n",
          "!pip install -r requirements.txt\n",
          "!python app.py"
        ]
      }
    ]
  }