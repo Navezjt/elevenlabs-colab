{
  "cells": [
    {
      "cell_type": "markdown",
      "metadata": {
        "id": "view-in-github"
      },
      "source": [
        "[![Open In Colab](https://colab.research.google.com/assets/colab-badge.svg)](https://colab.research.google.com/github/camenduru/elevenlabs-colab/blob/main/elevenlabs_colab.ipynb)"
      ]
    },
    {
      "cell_type": "code",
      "execution_count": null,
      "metadata": {
        "id": "k7LoZUS1x-Ik"
      },
      "outputs": [],
      "source": [
        "!git clone -b dev https://github.com/camenduru/elevenlabs-hf\n",
        "%cd elevenlabs-hf\n",
        "!pip install -r requirements.txt\n",
        "!python app.py"
      ]
    }
  ],
  "metadata": {
    "colab": {
      "provenance": []
    },
    "kernelspec": {
      "display_name": "Python 3",
      "name": "python3"
    },
    "language_info": {
      "name": "python"
    }
  },
  "nbformat": 4,
  "nbformat_minor": 0
}
